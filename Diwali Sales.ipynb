{
  "nbformat": 4,
  "nbformat_minor": 5,
  "metadata": {
    "kernel_info": {
      "name": "python3"
    },
    "noteable": {
      "last_transaction_id": "4635d44d-5aa0-4582-9278-5e1f68b524c7",
      "db_connection": "@noteable"
    },
    "kernelspec": {
      "display_name": "Python 3.9",
      "language": "python",
      "name": "python3"
    },
    "selected_hardware_size": "small"
  },
  "cells": [
    {
      "id": "acaee528",
      "cell_type": "markdown",
      "source": "## Diwali Sales Analysis Using Python. #",
      "metadata": {
        "noteable": {
          "cell_type": "markdown"
        }
      }
    },
    {
      "id": "77b98804-6a48-4323-90a9-6eeac24d8de1",
      "cell_type": "markdown",
      "source": "# Import Python libraries #",
      "metadata": {
        "noteable": {
          "cell_type": "markdown"
        }
      }
    },
    {
      "id": "a88d9b3f-ab4d-435d-9842-094222c1e967",
      "cell_type": "code",
      "metadata": {
        "noteable": {
          "cell_type": "python",
          "output_collection_id": "236efe48-f5a9-4cac-bea4-bbe728faefce"
        },
        "ExecuteTime": {
          "end_time": "2023-08-22T12:56:35.317440+00:00",
          "start_time": "2023-08-22T12:56:34.429179+00:00"
        }
      },
      "execution_count": null,
      "source": "import numpy as np \nimport pandas as pd \nimport matplotlib.pyplot as plt #visualizing data\n%matplotlib inline \nimport seaborn as sns",
      "outputs": []
    },
    {
      "id": "a2cde6e6-ba6b-43ff-8b9d-ad5fe41ef709",
      "cell_type": "code",
      "metadata": {
        "jupyter": {
          "outputs_hidden": false,
          "source_hidden": false
        },
        "noteable": {
          "cell_type": "code",
          "output_collection_id": "1403a8da-9b66-438c-8458-5ff051e3a3af"
        },
        "ExecuteTime": {
          "end_time": "2023-08-22T12:56:42.359811+00:00",
          "start_time": "2023-08-22T12:56:42.174160+00:00"
        }
      },
      "execution_count": null,
      "source": "df = pd.read_csv('Diwali Sales Data.csv',encoding='unicode_escape')",
      "outputs": []
    },
    {
      "id": "dc836554-bd5f-4971-b955-4e9d134791d8",
      "cell_type": "markdown",
      "source": "# Data Cleaning\n",
      "metadata": {
        "noteable": {
          "cell_type": "markdown"
        }
      }
    },
    {
      "id": "398eacce-eb99-4a67-bc2c-9cde50e78170",
      "cell_type": "code",
      "metadata": {
        "noteable": {
          "cell_type": "python",
          "output_collection_id": "4f4d40e4-9e4a-4999-9b69-a5c1c8d12842"
        },
        "ExecuteTime": {
          "end_time": "2023-08-22T12:57:42.434427+00:00",
          "start_time": "2023-08-22T12:57:42.131275+00:00"
        },
        "datalink": {
          "6a2b3e78-4ad7-44e8-bb40-5be31f4426d0": {
            "applied_filters": [],
            "dataframe_info": {
              "default_index_used": true,
              "orig_num_cols": 15,
              "orig_num_rows": 5,
              "orig_size_bytes": 640,
              "truncated_num_cols": 15,
              "truncated_num_rows": 5,
              "truncated_size_bytes": 640,
              "truncated_string_columns": []
            },
            "display_id": "6a2b3e78-4ad7-44e8-bb40-5be31f4426d0",
            "dx_settings": {
              "ALLOW_NOTEABLE_ATTRS": true,
              "COLUMN_SAMPLING_METHOD": "outer",
              "DB_LOCATION": ":memory:",
              "DEV_MODE": false,
              "DISPLAY_MAX_COLUMNS": 100,
              "DISPLAY_MAX_ROWS": 50000,
              "DISPLAY_MODE": "simple",
              "ENABLE_ASSIGNMENT": true,
              "ENABLE_DATALINK": true,
              "FLATTEN_COLUMN_VALUES": true,
              "FLATTEN_INDEX_VALUES": false,
              "GENERATE_DEX_METADATA": false,
              "HTML_TABLE_SCHEMA": false,
              "LOG_LEVEL": 30,
              "MAX_RENDER_SIZE_BYTES": 104857600,
              "MAX_STRING_LENGTH": 250,
              "NUM_PAST_SAMPLES_TRACKED": 3,
              "RANDOM_STATE": 12648430,
              "RESET_INDEX_VALUES": false,
              "ROW_SAMPLING_METHOD": "random",
              "SAMPLING_FACTOR": 0.1,
              "SAMPLING_METHOD": "random",
              "STRINGIFY_COLUMN_VALUES": true,
              "STRINGIFY_INDEX_VALUES": false
            },
            "sample_history": [],
            "sampling_time": "2023-08-22T12:57:42.257467",
            "user_variable_name": null,
            "variable_name": "unk_dataframe_c244283904f84e8d85df0a9206f8487d"
          }
        },
        "dx": {
          "dashboard": {
            "multiViews": []
          },
          "fieldMetadata": {},
          "updated": 1692709118720,
          "views": [
            {
              "annotationRules": [],
              "chart": {},
              "chartMode": "grid",
              "confoRules": [],
              "decoration": {
                "footer": "",
                "subtitle": "",
                "title": "Table"
              },
              "facets": [],
              "filterSettings": {
                "SHOW_FILTER_PANEL": true,
                "filters": []
              },
              "id": "first-view",
              "isDefault": true,
              "type": "public",
              "userID": ""
            },
            {
              "annotationRules": [],
              "chart": {},
              "chartMode": "grid",
              "confoRules": [],
              "decoration": {
                "footer": "",
                "subtitle": "",
                "title": "Table"
              },
              "facets": [],
              "filterSettings": {
                "SHOW_FILTER_PANEL": true,
                "filters": []
              },
              "id": "first-view",
              "isDefault": true,
              "isTransitory": true,
              "type": "public",
              "userID": ""
            }
          ]
        }
      },
      "execution_count": null,
      "source": "df.head()",
      "outputs": []
    },
    {
      "id": "6a0ed4e7-fa5c-412e-95be-0ce5038490e3",
      "cell_type": "code",
      "metadata": {
        "jupyter": {
          "outputs_hidden": false,
          "source_hidden": false
        },
        "noteable": {
          "cell_type": "code",
          "output_collection_id": "2495c615-6ed3-4208-b49c-f4f33bda59a8"
        },
        "ExecuteTime": {
          "end_time": "2023-08-22T13:01:11.312636+00:00",
          "start_time": "2023-08-22T13:01:11.151603+00:00"
        }
      },
      "execution_count": null,
      "source": "df.shape",
      "outputs": []
    },
    {
      "id": "09bd7f2e-88ba-4f00-aa57-f8878e421243",
      "cell_type": "code",
      "metadata": {
        "jupyter": {
          "outputs_hidden": false,
          "source_hidden": false
        },
        "noteable": {
          "cell_type": "code",
          "output_collection_id": "aa7ca417-db85-43a9-8c3f-ae9453aea9a5"
        },
        "ExecuteTime": {
          "end_time": "2023-08-22T13:01:14.048220+00:00",
          "start_time": "2023-08-22T13:01:13.870115+00:00"
        },
        "datalink": {
          "884be622-b5bc-4345-ab18-4e20d485d103": {
            "applied_filters": [],
            "dataframe_info": {
              "default_index_used": true,
              "orig_num_cols": 15,
              "orig_num_rows": 10,
              "orig_size_bytes": 1280,
              "truncated_num_cols": 15,
              "truncated_num_rows": 10,
              "truncated_size_bytes": 1280,
              "truncated_string_columns": []
            },
            "display_id": "884be622-b5bc-4345-ab18-4e20d485d103",
            "dx_settings": {
              "ALLOW_NOTEABLE_ATTRS": true,
              "COLUMN_SAMPLING_METHOD": "outer",
              "DB_LOCATION": ":memory:",
              "DEV_MODE": false,
              "DISPLAY_MAX_COLUMNS": 100,
              "DISPLAY_MAX_ROWS": 50000,
              "DISPLAY_MODE": "simple",
              "ENABLE_ASSIGNMENT": true,
              "ENABLE_DATALINK": true,
              "FLATTEN_COLUMN_VALUES": true,
              "FLATTEN_INDEX_VALUES": false,
              "GENERATE_DEX_METADATA": false,
              "HTML_TABLE_SCHEMA": false,
              "LOG_LEVEL": 30,
              "MAX_RENDER_SIZE_BYTES": 104857600,
              "MAX_STRING_LENGTH": 250,
              "NUM_PAST_SAMPLES_TRACKED": 3,
              "RANDOM_STATE": 12648430,
              "RESET_INDEX_VALUES": false,
              "ROW_SAMPLING_METHOD": "random",
              "SAMPLING_FACTOR": 0.1,
              "SAMPLING_METHOD": "random",
              "STRINGIFY_COLUMN_VALUES": true,
              "STRINGIFY_INDEX_VALUES": false
            },
            "sample_history": [],
            "sampling_time": "2023-08-18T19:21:57.751575",
            "user_variable_name": null,
            "variable_name": "unk_dataframe_7ce55937afc945a89cc1ca588376ea86"
          },
          "17d124de-78a1-4d3a-b56c-5377949d734f": {
            "applied_filters": [],
            "dataframe_info": {
              "default_index_used": true,
              "orig_num_cols": 15,
              "orig_num_rows": 10,
              "orig_size_bytes": 1280,
              "truncated_num_cols": 15,
              "truncated_num_rows": 10,
              "truncated_size_bytes": 1280,
              "truncated_string_columns": []
            },
            "display_id": "17d124de-78a1-4d3a-b56c-5377949d734f",
            "dx_settings": {
              "ALLOW_NOTEABLE_ATTRS": true,
              "COLUMN_SAMPLING_METHOD": "outer",
              "DB_LOCATION": ":memory:",
              "DEV_MODE": false,
              "DISPLAY_MAX_COLUMNS": 100,
              "DISPLAY_MAX_ROWS": 50000,
              "DISPLAY_MODE": "simple",
              "ENABLE_ASSIGNMENT": true,
              "ENABLE_DATALINK": true,
              "FLATTEN_COLUMN_VALUES": true,
              "FLATTEN_INDEX_VALUES": false,
              "GENERATE_DEX_METADATA": false,
              "HTML_TABLE_SCHEMA": false,
              "LOG_LEVEL": 30,
              "MAX_RENDER_SIZE_BYTES": 104857600,
              "MAX_STRING_LENGTH": 250,
              "NUM_PAST_SAMPLES_TRACKED": 3,
              "RANDOM_STATE": 12648430,
              "RESET_INDEX_VALUES": false,
              "ROW_SAMPLING_METHOD": "random",
              "SAMPLING_FACTOR": 0.1,
              "SAMPLING_METHOD": "random",
              "STRINGIFY_COLUMN_VALUES": true,
              "STRINGIFY_INDEX_VALUES": false
            },
            "sample_history": [],
            "sampling_time": "2023-08-18T19:22:01.116826",
            "user_variable_name": null,
            "variable_name": "unk_dataframe_29dd4f6fdfcd464ca3fd377cc403c1ca"
          },
          "126dbd10-c76b-4bcc-be3f-12e5b91d28f2": {
            "applied_filters": [],
            "dataframe_info": {
              "default_index_used": false,
              "orig_num_cols": 7,
              "orig_num_rows": 8,
              "orig_size_bytes": 512,
              "truncated_num_cols": 7,
              "truncated_num_rows": 8,
              "truncated_size_bytes": 512,
              "truncated_string_columns": []
            },
            "display_id": "126dbd10-c76b-4bcc-be3f-12e5b91d28f2",
            "dx_settings": {
              "ALLOW_NOTEABLE_ATTRS": true,
              "COLUMN_SAMPLING_METHOD": "outer",
              "DB_LOCATION": ":memory:",
              "DEV_MODE": false,
              "DISPLAY_MAX_COLUMNS": 100,
              "DISPLAY_MAX_ROWS": 50000,
              "DISPLAY_MODE": "simple",
              "ENABLE_ASSIGNMENT": true,
              "ENABLE_DATALINK": true,
              "FLATTEN_COLUMN_VALUES": true,
              "FLATTEN_INDEX_VALUES": false,
              "GENERATE_DEX_METADATA": false,
              "HTML_TABLE_SCHEMA": false,
              "LOG_LEVEL": 30,
              "MAX_RENDER_SIZE_BYTES": 104857600,
              "MAX_STRING_LENGTH": 250,
              "NUM_PAST_SAMPLES_TRACKED": 3,
              "RANDOM_STATE": 12648430,
              "RESET_INDEX_VALUES": false,
              "ROW_SAMPLING_METHOD": "random",
              "SAMPLING_FACTOR": 0.1,
              "SAMPLING_METHOD": "random",
              "STRINGIFY_COLUMN_VALUES": true,
              "STRINGIFY_INDEX_VALUES": false
            },
            "sample_history": [],
            "sampling_time": "2023-08-18T19:22:33.034051",
            "user_variable_name": null,
            "variable_name": "unk_dataframe_0caac07be3c54be58e102017c091ad42"
          },
          "5f7f3427-eb9e-4667-98b8-980b356eae29": {
            "applied_filters": [],
            "dataframe_info": {
              "default_index_used": false,
              "orig_num_cols": 7,
              "orig_num_rows": 8,
              "orig_size_bytes": 512,
              "truncated_num_cols": 7,
              "truncated_num_rows": 8,
              "truncated_size_bytes": 512,
              "truncated_string_columns": []
            },
            "display_id": "5f7f3427-eb9e-4667-98b8-980b356eae29",
            "dx_settings": {
              "ALLOW_NOTEABLE_ATTRS": true,
              "COLUMN_SAMPLING_METHOD": "outer",
              "DB_LOCATION": ":memory:",
              "DEV_MODE": false,
              "DISPLAY_MAX_COLUMNS": 100,
              "DISPLAY_MAX_ROWS": 50000,
              "DISPLAY_MODE": "simple",
              "ENABLE_ASSIGNMENT": true,
              "ENABLE_DATALINK": true,
              "FLATTEN_COLUMN_VALUES": true,
              "FLATTEN_INDEX_VALUES": false,
              "GENERATE_DEX_METADATA": false,
              "HTML_TABLE_SCHEMA": false,
              "LOG_LEVEL": 30,
              "MAX_RENDER_SIZE_BYTES": 104857600,
              "MAX_STRING_LENGTH": 250,
              "NUM_PAST_SAMPLES_TRACKED": 3,
              "RANDOM_STATE": 12648430,
              "RESET_INDEX_VALUES": false,
              "ROW_SAMPLING_METHOD": "random",
              "SAMPLING_FACTOR": 0.1,
              "SAMPLING_METHOD": "random",
              "STRINGIFY_COLUMN_VALUES": true,
              "STRINGIFY_INDEX_VALUES": false
            },
            "sample_history": [],
            "sampling_time": "2023-08-18T19:26:49.619703",
            "user_variable_name": null,
            "variable_name": "unk_dataframe_2b6f4db092624f1bb2bd3806ae16285f"
          }
        }
      },
      "execution_count": null,
      "source": "df.info()",
      "outputs": []
    },
    {
      "id": "5949f638-233e-4ecc-8eaa-85d7c4e8963f",
      "cell_type": "markdown",
      "source": "# Drop unrelated/blank column",
      "metadata": {
        "noteable": {
          "cell_type": "markdown"
        }
      }
    },
    {
      "id": "f83d6d19-9f67-4795-a89a-27575deecf87",
      "cell_type": "code",
      "metadata": {
        "jupyter": {
          "outputs_hidden": false,
          "source_hidden": false
        },
        "noteable": {
          "cell_type": "code",
          "output_collection_id": "f61b7c1e-e6fd-4f9d-b411-a90bc8ca24c9"
        },
        "ExecuteTime": {
          "end_time": "2023-08-22T13:15:16.046484+00:00",
          "start_time": "2023-08-22T13:15:15.794807+00:00"
        },
        "datalink": {
          "6dfa3e02-3d3a-4265-98c9-f046f64226a6": {
            "applied_filters": [],
            "dataframe_info": {
              "default_index_used": false,
              "orig_num_cols": 1,
              "orig_num_rows": 15,
              "orig_size_bytes": 240,
              "truncated_num_cols": 1,
              "truncated_num_rows": 15,
              "truncated_size_bytes": 240,
              "truncated_string_columns": []
            },
            "display_id": "6dfa3e02-3d3a-4265-98c9-f046f64226a6",
            "dx_settings": {
              "ALLOW_NOTEABLE_ATTRS": true,
              "COLUMN_SAMPLING_METHOD": "outer",
              "DB_LOCATION": ":memory:",
              "DEV_MODE": false,
              "DISPLAY_MAX_COLUMNS": 100,
              "DISPLAY_MAX_ROWS": 50000,
              "DISPLAY_MODE": "simple",
              "ENABLE_ASSIGNMENT": true,
              "ENABLE_DATALINK": true,
              "FLATTEN_COLUMN_VALUES": true,
              "FLATTEN_INDEX_VALUES": false,
              "GENERATE_DEX_METADATA": false,
              "HTML_TABLE_SCHEMA": false,
              "LOG_LEVEL": 30,
              "MAX_RENDER_SIZE_BYTES": 104857600,
              "MAX_STRING_LENGTH": 250,
              "NUM_PAST_SAMPLES_TRACKED": 3,
              "RANDOM_STATE": 12648430,
              "RESET_INDEX_VALUES": false,
              "ROW_SAMPLING_METHOD": "random",
              "SAMPLING_FACTOR": 0.1,
              "SAMPLING_METHOD": "random",
              "STRINGIFY_COLUMN_VALUES": true,
              "STRINGIFY_INDEX_VALUES": false
            },
            "sample_history": [],
            "sampling_time": "2023-08-18T19:25:07.226059",
            "user_variable_name": null,
            "variable_name": "unk_dataframe_3d7262b2cb3a494eaf4e6463f6fbc500"
          },
          "c95c8930-75bf-4984-95fd-e6fd44256d30": {
            "applied_filters": [],
            "dataframe_info": {
              "default_index_used": false,
              "orig_num_cols": 1,
              "orig_num_rows": 15,
              "orig_size_bytes": 240,
              "truncated_num_cols": 1,
              "truncated_num_rows": 15,
              "truncated_size_bytes": 240,
              "truncated_string_columns": []
            },
            "display_id": "c95c8930-75bf-4984-95fd-e6fd44256d30",
            "dx_settings": {
              "ALLOW_NOTEABLE_ATTRS": true,
              "COLUMN_SAMPLING_METHOD": "outer",
              "DB_LOCATION": ":memory:",
              "DEV_MODE": false,
              "DISPLAY_MAX_COLUMNS": 100,
              "DISPLAY_MAX_ROWS": 50000,
              "DISPLAY_MODE": "simple",
              "ENABLE_ASSIGNMENT": true,
              "ENABLE_DATALINK": true,
              "FLATTEN_COLUMN_VALUES": true,
              "FLATTEN_INDEX_VALUES": false,
              "GENERATE_DEX_METADATA": false,
              "HTML_TABLE_SCHEMA": false,
              "LOG_LEVEL": 30,
              "MAX_RENDER_SIZE_BYTES": 104857600,
              "MAX_STRING_LENGTH": 250,
              "NUM_PAST_SAMPLES_TRACKED": 3,
              "RANDOM_STATE": 12648430,
              "RESET_INDEX_VALUES": false,
              "ROW_SAMPLING_METHOD": "random",
              "SAMPLING_FACTOR": 0.1,
              "SAMPLING_METHOD": "random",
              "STRINGIFY_COLUMN_VALUES": true,
              "STRINGIFY_INDEX_VALUES": false
            },
            "sample_history": [],
            "sampling_time": "2023-08-18T19:26:49.963619",
            "user_variable_name": null,
            "variable_name": "unk_dataframe_0ea332fa434940fc9f322e12e4322876"
          },
          "ca7b6a84-a12a-4720-b792-d8f502ad3e47": {
            "applied_filters": [],
            "dataframe_info": {
              "default_index_used": false,
              "orig_num_cols": 1,
              "orig_num_rows": 13,
              "orig_size_bytes": 208,
              "truncated_num_cols": 1,
              "truncated_num_rows": 13,
              "truncated_size_bytes": 208,
              "truncated_string_columns": []
            },
            "display_id": "ca7b6a84-a12a-4720-b792-d8f502ad3e47",
            "dx_settings": {
              "ALLOW_NOTEABLE_ATTRS": true,
              "COLUMN_SAMPLING_METHOD": "outer",
              "DB_LOCATION": ":memory:",
              "DEV_MODE": false,
              "DISPLAY_MAX_COLUMNS": 100,
              "DISPLAY_MAX_ROWS": 50000,
              "DISPLAY_MODE": "simple",
              "ENABLE_ASSIGNMENT": true,
              "ENABLE_DATALINK": true,
              "FLATTEN_COLUMN_VALUES": true,
              "FLATTEN_INDEX_VALUES": false,
              "GENERATE_DEX_METADATA": false,
              "HTML_TABLE_SCHEMA": false,
              "LOG_LEVEL": 30,
              "MAX_RENDER_SIZE_BYTES": 104857600,
              "MAX_STRING_LENGTH": 250,
              "NUM_PAST_SAMPLES_TRACKED": 3,
              "RANDOM_STATE": 12648430,
              "RESET_INDEX_VALUES": false,
              "ROW_SAMPLING_METHOD": "random",
              "SAMPLING_FACTOR": 0.1,
              "SAMPLING_METHOD": "random",
              "STRINGIFY_COLUMN_VALUES": true,
              "STRINGIFY_INDEX_VALUES": false
            },
            "sample_history": [],
            "sampling_time": "2023-08-22T13:15:15.882657",
            "user_variable_name": null,
            "variable_name": "unk_dataframe_52d986f4737846fe94919dd062580d2d"
          }
        },
        "scrolled": false
      },
      "execution_count": null,
      "source": "df.isnull().sum()",
      "outputs": []
    },
    {
      "id": "ee75c93e-c2c6-4c2c-a285-32db34ca670e",
      "cell_type": "code",
      "metadata": {
        "jupyter": {
          "outputs_hidden": false,
          "source_hidden": false
        },
        "noteable": {
          "cell_type": "code",
          "output_collection_id": "1590fbfe-d761-491c-b388-6d64f2fb0bdc"
        },
        "ExecuteTime": {
          "end_time": "2023-08-22T13:01:23.369874+00:00",
          "start_time": "2023-08-22T13:01:23.209707+00:00"
        },
        "datalink": {
          "48f8b301-3961-430f-80cd-c87f8984577b": {
            "applied_filters": [],
            "dataframe_info": {
              "default_index_used": true,
              "orig_num_cols": 13,
              "orig_num_rows": 11251,
              "orig_size_bytes": 1260112,
              "truncated_num_cols": 13,
              "truncated_num_rows": 11251,
              "truncated_size_bytes": 1260112,
              "truncated_string_columns": []
            },
            "display_id": "48f8b301-3961-430f-80cd-c87f8984577b",
            "dx_settings": {
              "ALLOW_NOTEABLE_ATTRS": true,
              "COLUMN_SAMPLING_METHOD": "outer",
              "DB_LOCATION": ":memory:",
              "DEV_MODE": false,
              "DISPLAY_MAX_COLUMNS": 100,
              "DISPLAY_MAX_ROWS": 50000,
              "DISPLAY_MODE": "simple",
              "ENABLE_ASSIGNMENT": true,
              "ENABLE_DATALINK": true,
              "FLATTEN_COLUMN_VALUES": true,
              "FLATTEN_INDEX_VALUES": false,
              "GENERATE_DEX_METADATA": false,
              "HTML_TABLE_SCHEMA": false,
              "LOG_LEVEL": 30,
              "MAX_RENDER_SIZE_BYTES": 104857600,
              "MAX_STRING_LENGTH": 250,
              "NUM_PAST_SAMPLES_TRACKED": 3,
              "RANDOM_STATE": 12648430,
              "RESET_INDEX_VALUES": false,
              "ROW_SAMPLING_METHOD": "random",
              "SAMPLING_FACTOR": 0.1,
              "SAMPLING_METHOD": "random",
              "STRINGIFY_COLUMN_VALUES": true,
              "STRINGIFY_INDEX_VALUES": false
            },
            "sample_history": [],
            "sampling_time": "2023-08-18T19:26:22.740580",
            "user_variable_name": null,
            "variable_name": "unk_dataframe_b8afb86e294546cf80dbd13bc3c18d92"
          }
        }
      },
      "execution_count": null,
      "source": "#drop unrelated/blank columns\ndf.drop(['Status','unnamed1'], axis=1, inplace=True)",
      "outputs": []
    },
    {
      "id": "2110172d-4fe0-41b9-93ff-7afc05c10d95",
      "cell_type": "code",
      "metadata": {
        "jupyter": {
          "outputs_hidden": false,
          "source_hidden": false
        },
        "noteable": {
          "cell_type": "code",
          "output_collection_id": "c1d81a7c-a228-4b8c-8b36-e836b6b04176"
        },
        "ExecuteTime": {
          "end_time": "2023-08-22T13:01:31.134069+00:00",
          "start_time": "2023-08-22T13:01:30.890253+00:00"
        },
        "datalink": {
          "33463a21-d5e8-4551-bf9f-c4ca3168c4fe": {
            "applied_filters": [],
            "dataframe_info": {
              "default_index_used": false,
              "orig_num_cols": 1,
              "orig_num_rows": 13,
              "orig_size_bytes": 208,
              "truncated_num_cols": 1,
              "truncated_num_rows": 13,
              "truncated_size_bytes": 208,
              "truncated_string_columns": []
            },
            "display_id": "33463a21-d5e8-4551-bf9f-c4ca3168c4fe",
            "dx_settings": {
              "ALLOW_NOTEABLE_ATTRS": true,
              "COLUMN_SAMPLING_METHOD": "outer",
              "DB_LOCATION": ":memory:",
              "DEV_MODE": false,
              "DISPLAY_MAX_COLUMNS": 100,
              "DISPLAY_MAX_ROWS": 50000,
              "DISPLAY_MODE": "simple",
              "ENABLE_ASSIGNMENT": true,
              "ENABLE_DATALINK": true,
              "FLATTEN_COLUMN_VALUES": true,
              "FLATTEN_INDEX_VALUES": false,
              "GENERATE_DEX_METADATA": false,
              "HTML_TABLE_SCHEMA": false,
              "LOG_LEVEL": 30,
              "MAX_RENDER_SIZE_BYTES": 104857600,
              "MAX_STRING_LENGTH": 250,
              "NUM_PAST_SAMPLES_TRACKED": 3,
              "RANDOM_STATE": 12648430,
              "RESET_INDEX_VALUES": false,
              "ROW_SAMPLING_METHOD": "random",
              "SAMPLING_FACTOR": 0.1,
              "SAMPLING_METHOD": "random",
              "STRINGIFY_COLUMN_VALUES": true,
              "STRINGIFY_INDEX_VALUES": false
            },
            "sample_history": [],
            "sampling_time": "2023-08-18T19:27:30.201512",
            "user_variable_name": null,
            "variable_name": "unk_dataframe_a9464e91664d487c95cee31935289f17"
          },
          "e229a478-4718-4e18-a239-a03c9bc4bf30": {
            "applied_filters": [],
            "dataframe_info": {
              "default_index_used": false,
              "orig_num_cols": 1,
              "orig_num_rows": 13,
              "orig_size_bytes": 208,
              "truncated_num_cols": 1,
              "truncated_num_rows": 13,
              "truncated_size_bytes": 208,
              "truncated_string_columns": []
            },
            "display_id": "e229a478-4718-4e18-a239-a03c9bc4bf30",
            "dx_settings": {
              "ALLOW_NOTEABLE_ATTRS": true,
              "COLUMN_SAMPLING_METHOD": "outer",
              "DB_LOCATION": ":memory:",
              "DEV_MODE": false,
              "DISPLAY_MAX_COLUMNS": 100,
              "DISPLAY_MAX_ROWS": 50000,
              "DISPLAY_MODE": "simple",
              "ENABLE_ASSIGNMENT": true,
              "ENABLE_DATALINK": true,
              "FLATTEN_COLUMN_VALUES": true,
              "FLATTEN_INDEX_VALUES": false,
              "GENERATE_DEX_METADATA": false,
              "HTML_TABLE_SCHEMA": false,
              "LOG_LEVEL": 30,
              "MAX_RENDER_SIZE_BYTES": 104857600,
              "MAX_STRING_LENGTH": 250,
              "NUM_PAST_SAMPLES_TRACKED": 3,
              "RANDOM_STATE": 12648430,
              "RESET_INDEX_VALUES": false,
              "ROW_SAMPLING_METHOD": "random",
              "SAMPLING_FACTOR": 0.1,
              "SAMPLING_METHOD": "random",
              "STRINGIFY_COLUMN_VALUES": true,
              "STRINGIFY_INDEX_VALUES": false
            },
            "sample_history": [],
            "sampling_time": "2023-08-22T13:01:30.970310",
            "user_variable_name": null,
            "variable_name": "unk_dataframe_63ad97d3ef6849a195e37227ba398713"
          }
        }
      },
      "execution_count": null,
      "source": "#checking for null values\ndf.isnull().sum()",
      "outputs": []
    },
    {
      "id": "ad2e9b21-8864-4da4-9891-30810ae34213",
      "cell_type": "code",
      "metadata": {
        "jupyter": {
          "outputs_hidden": false,
          "source_hidden": false
        },
        "noteable": {
          "cell_type": "code",
          "output_collection_id": "8cb619c1-18c9-42e4-889e-6cd994b58a86"
        },
        "ExecuteTime": {
          "end_time": "2023-08-22T13:02:03.712609+00:00",
          "start_time": "2023-08-22T13:02:03.533700+00:00"
        }
      },
      "execution_count": null,
      "source": "df.dropna(inplace=True)",
      "outputs": []
    },
    {
      "id": "d6fe3207-1b11-4431-b8a8-339ff44e8cbb",
      "cell_type": "code",
      "metadata": {
        "jupyter": {
          "outputs_hidden": false,
          "source_hidden": false
        },
        "noteable": {
          "cell_type": "code",
          "output_collection_id": "757f2bda-a780-44d5-b1bd-1cc21d1d71b6"
        },
        "ExecuteTime": {
          "end_time": "2023-08-22T13:18:43.552611+00:00",
          "start_time": "2023-08-22T13:18:43.395004+00:00"
        },
        "datalink": {
          "320fcf82-3c3a-4442-85b5-2435c88d4299": {
            "applied_filters": [],
            "dataframe_info": {
              "default_index_used": false,
              "orig_num_cols": 1,
              "orig_num_rows": 13,
              "orig_size_bytes": 208,
              "truncated_num_cols": 1,
              "truncated_num_rows": 13,
              "truncated_size_bytes": 208,
              "truncated_string_columns": []
            },
            "display_id": "320fcf82-3c3a-4442-85b5-2435c88d4299",
            "dx_settings": {
              "ALLOW_NOTEABLE_ATTRS": true,
              "COLUMN_SAMPLING_METHOD": "outer",
              "DB_LOCATION": ":memory:",
              "DEV_MODE": false,
              "DISPLAY_MAX_COLUMNS": 100,
              "DISPLAY_MAX_ROWS": 50000,
              "DISPLAY_MODE": "simple",
              "ENABLE_ASSIGNMENT": true,
              "ENABLE_DATALINK": true,
              "FLATTEN_COLUMN_VALUES": true,
              "FLATTEN_INDEX_VALUES": false,
              "GENERATE_DEX_METADATA": false,
              "HTML_TABLE_SCHEMA": false,
              "LOG_LEVEL": 30,
              "MAX_RENDER_SIZE_BYTES": 104857600,
              "MAX_STRING_LENGTH": 250,
              "NUM_PAST_SAMPLES_TRACKED": 3,
              "RANDOM_STATE": 12648430,
              "RESET_INDEX_VALUES": false,
              "ROW_SAMPLING_METHOD": "random",
              "SAMPLING_FACTOR": 0.1,
              "SAMPLING_METHOD": "random",
              "STRINGIFY_COLUMN_VALUES": true,
              "STRINGIFY_INDEX_VALUES": false
            },
            "sample_history": [],
            "sampling_time": "2023-08-18T19:29:44.463460",
            "user_variable_name": null,
            "variable_name": "unk_dataframe_42f980a251fe4fb2a68caa3ace9ec872"
          }
        }
      },
      "execution_count": null,
      "source": "df['Amount'] = df['Amount'].astype('int')",
      "outputs": []
    },
    {
      "id": "db610706-ebbc-4135-bc9e-d81d3fb4e7c2",
      "cell_type": "code",
      "metadata": {
        "jupyter": {
          "outputs_hidden": false,
          "source_hidden": false
        },
        "noteable": {
          "cell_type": "code",
          "output_collection_id": "5f8e5bae-fd90-4745-aaba-ed8047fa18ba"
        },
        "ExecuteTime": {
          "end_time": "2023-08-22T13:19:04.906848+00:00",
          "start_time": "2023-08-22T13:19:04.748094+00:00"
        },
        "datalink": {
          "31cca31e-7a2d-42b3-b829-39377b7ce4d7": {
            "applied_filters": [],
            "dataframe_info": {
              "default_index_used": false,
              "orig_num_cols": 1,
              "orig_num_rows": 8,
              "orig_size_bytes": 128,
              "truncated_num_cols": 1,
              "truncated_num_rows": 8,
              "truncated_size_bytes": 128,
              "truncated_string_columns": []
            },
            "display_id": "31cca31e-7a2d-42b3-b829-39377b7ce4d7",
            "dx_settings": {
              "ALLOW_NOTEABLE_ATTRS": true,
              "COLUMN_SAMPLING_METHOD": "outer",
              "DB_LOCATION": ":memory:",
              "DEV_MODE": false,
              "DISPLAY_MAX_COLUMNS": 100,
              "DISPLAY_MAX_ROWS": 50000,
              "DISPLAY_MODE": "simple",
              "ENABLE_ASSIGNMENT": true,
              "ENABLE_DATALINK": true,
              "FLATTEN_COLUMN_VALUES": true,
              "FLATTEN_INDEX_VALUES": false,
              "GENERATE_DEX_METADATA": false,
              "HTML_TABLE_SCHEMA": false,
              "LOG_LEVEL": 30,
              "MAX_RENDER_SIZE_BYTES": 104857600,
              "MAX_STRING_LENGTH": 250,
              "NUM_PAST_SAMPLES_TRACKED": 3,
              "RANDOM_STATE": 12648430,
              "RESET_INDEX_VALUES": false,
              "ROW_SAMPLING_METHOD": "random",
              "SAMPLING_FACTOR": 0.1,
              "SAMPLING_METHOD": "random",
              "STRINGIFY_COLUMN_VALUES": true,
              "STRINGIFY_INDEX_VALUES": false
            },
            "sample_history": [],
            "sampling_time": "2023-08-18T19:30:43.728436",
            "user_variable_name": null,
            "variable_name": "unk_dataframe_bdc7404a089c4e0c96bbd880d051b818"
          }
        }
      },
      "execution_count": null,
      "source": "df['Amount'].dtypes",
      "outputs": []
    },
    {
      "id": "1cc504d1-b3ef-4c5c-a495-e73887b14660",
      "cell_type": "code",
      "metadata": {
        "jupyter": {
          "outputs_hidden": false,
          "source_hidden": false
        },
        "noteable": {
          "cell_type": "code",
          "output_collection_id": "56fc8939-2b6b-4c78-8e67-513059302e6f"
        },
        "ExecuteTime": {
          "end_time": "2023-08-22T13:19:08.588143+00:00",
          "start_time": "2023-08-22T13:19:08.428854+00:00"
        }
      },
      "execution_count": null,
      "source": "df.columns",
      "outputs": []
    },
    {
      "id": "d7584b2c-4775-4a38-a92f-49e005304e7e",
      "cell_type": "markdown",
      "source": "# Renaming Column ",
      "metadata": {
        "noteable": {
          "cell_type": "markdown"
        }
      }
    },
    {
      "id": "9118978d-b65a-4160-b610-2044a37aa713",
      "cell_type": "code",
      "metadata": {
        "jupyter": {
          "outputs_hidden": false,
          "source_hidden": false
        },
        "noteable": {
          "cell_type": "code",
          "output_collection_id": "878b572e-5b1b-41ca-ade4-eef470d44095"
        },
        "ExecuteTime": {
          "end_time": "2023-08-22T13:22:43.811402+00:00",
          "start_time": "2023-08-22T13:22:42.831162+00:00"
        },
        "datalink": {
          "dd0caf4f-62cc-4b18-968e-3937abf7f419": {
            "applied_filters": [],
            "dataframe_info": {
              "default_index_used": true,
              "orig_num_cols": 13,
              "orig_num_rows": 11239,
              "orig_size_bytes": 1258768,
              "truncated_num_cols": 13,
              "truncated_num_rows": 11239,
              "truncated_size_bytes": 1258768,
              "truncated_string_columns": []
            },
            "display_id": "dd0caf4f-62cc-4b18-968e-3937abf7f419",
            "dx_settings": {
              "ALLOW_NOTEABLE_ATTRS": true,
              "COLUMN_SAMPLING_METHOD": "outer",
              "DB_LOCATION": ":memory:",
              "DEV_MODE": false,
              "DISPLAY_MAX_COLUMNS": 100,
              "DISPLAY_MAX_ROWS": 50000,
              "DISPLAY_MODE": "simple",
              "ENABLE_ASSIGNMENT": true,
              "ENABLE_DATALINK": true,
              "FLATTEN_COLUMN_VALUES": true,
              "FLATTEN_INDEX_VALUES": false,
              "GENERATE_DEX_METADATA": false,
              "HTML_TABLE_SCHEMA": false,
              "LOG_LEVEL": 30,
              "MAX_RENDER_SIZE_BYTES": 104857600,
              "MAX_STRING_LENGTH": 250,
              "NUM_PAST_SAMPLES_TRACKED": 3,
              "RANDOM_STATE": 12648430,
              "RESET_INDEX_VALUES": false,
              "ROW_SAMPLING_METHOD": "random",
              "SAMPLING_FACTOR": 0.1,
              "SAMPLING_METHOD": "random",
              "STRINGIFY_COLUMN_VALUES": true,
              "STRINGIFY_INDEX_VALUES": false
            },
            "sample_history": [],
            "sampling_time": "2023-08-22T13:21:56.169167",
            "user_variable_name": "df",
            "variable_name": "df"
          },
          "edad0d34-81e8-41b9-9d92-71d21da55db8": {
            "applied_filters": [],
            "dataframe_info": {
              "default_index_used": true,
              "orig_num_cols": 13,
              "orig_num_rows": 11239,
              "orig_size_bytes": 1258768,
              "truncated_num_cols": 13,
              "truncated_num_rows": 11239,
              "truncated_size_bytes": 1258768,
              "truncated_string_columns": []
            },
            "display_id": "edad0d34-81e8-41b9-9d92-71d21da55db8",
            "dx_settings": {
              "ALLOW_NOTEABLE_ATTRS": true,
              "COLUMN_SAMPLING_METHOD": "outer",
              "DB_LOCATION": ":memory:",
              "DEV_MODE": false,
              "DISPLAY_MAX_COLUMNS": 100,
              "DISPLAY_MAX_ROWS": 50000,
              "DISPLAY_MODE": "simple",
              "ENABLE_ASSIGNMENT": true,
              "ENABLE_DATALINK": true,
              "FLATTEN_COLUMN_VALUES": true,
              "FLATTEN_INDEX_VALUES": false,
              "GENERATE_DEX_METADATA": false,
              "HTML_TABLE_SCHEMA": false,
              "LOG_LEVEL": 30,
              "MAX_RENDER_SIZE_BYTES": 104857600,
              "MAX_STRING_LENGTH": 250,
              "NUM_PAST_SAMPLES_TRACKED": 3,
              "RANDOM_STATE": 12648430,
              "RESET_INDEX_VALUES": false,
              "ROW_SAMPLING_METHOD": "random",
              "SAMPLING_FACTOR": 0.1,
              "SAMPLING_METHOD": "random",
              "STRINGIFY_COLUMN_VALUES": true,
              "STRINGIFY_INDEX_VALUES": false
            },
            "sample_history": [],
            "sampling_time": "2023-08-22T13:22:43.529376",
            "user_variable_name": null,
            "variable_name": "unk_dataframe_3abcbb984f9f417684df0325143e4ff4"
          }
        }
      },
      "execution_count": null,
      "source": "df.rename(columns = {'Marital_Status': 'Shaadi'})",
      "outputs": []
    },
    {
      "id": "4a5ecd9e-60da-4749-bcff-a7f4961a5fa3",
      "cell_type": "markdown",
      "source": "# describe() method returns description of the data in the dataFrame (i.e. Count, Mean, Median, Std etc )",
      "metadata": {
        "noteable": {
          "cell_type": "markdown"
        }
      }
    },
    {
      "id": "5fae57fd-e2eb-4a01-a7bc-89dd7a4e0cac",
      "cell_type": "code",
      "metadata": {
        "jupyter": {
          "outputs_hidden": false,
          "source_hidden": false
        },
        "noteable": {
          "cell_type": "code",
          "output_collection_id": "34915818-4035-4d94-89be-5dbb30673e25"
        },
        "ExecuteTime": {
          "end_time": "2023-08-22T13:24:47.412745+00:00",
          "start_time": "2023-08-22T13:24:47.018346+00:00"
        },
        "datalink": {
          "468e78cb-9272-4196-a715-2841a6c1f2f0": {
            "applied_filters": [],
            "dataframe_info": {
              "default_index_used": false,
              "orig_num_cols": 5,
              "orig_num_rows": 8,
              "orig_size_bytes": 384,
              "truncated_num_cols": 5,
              "truncated_num_rows": 8,
              "truncated_size_bytes": 384,
              "truncated_string_columns": []
            },
            "display_id": "468e78cb-9272-4196-a715-2841a6c1f2f0",
            "dx_settings": {
              "ALLOW_NOTEABLE_ATTRS": true,
              "COLUMN_SAMPLING_METHOD": "outer",
              "DB_LOCATION": ":memory:",
              "DEV_MODE": false,
              "DISPLAY_MAX_COLUMNS": 100,
              "DISPLAY_MAX_ROWS": 50000,
              "DISPLAY_MODE": "simple",
              "ENABLE_ASSIGNMENT": true,
              "ENABLE_DATALINK": true,
              "FLATTEN_COLUMN_VALUES": true,
              "FLATTEN_INDEX_VALUES": false,
              "GENERATE_DEX_METADATA": false,
              "HTML_TABLE_SCHEMA": false,
              "LOG_LEVEL": 30,
              "MAX_RENDER_SIZE_BYTES": 104857600,
              "MAX_STRING_LENGTH": 250,
              "NUM_PAST_SAMPLES_TRACKED": 3,
              "RANDOM_STATE": 12648430,
              "RESET_INDEX_VALUES": false,
              "ROW_SAMPLING_METHOD": "random",
              "SAMPLING_FACTOR": 0.1,
              "SAMPLING_METHOD": "random",
              "STRINGIFY_COLUMN_VALUES": true,
              "STRINGIFY_INDEX_VALUES": false
            },
            "sample_history": [],
            "sampling_time": "2023-08-22T13:24:47.241123",
            "user_variable_name": null,
            "variable_name": "unk_dataframe_29eb09f0ce504cb3941cbc23f6f626ee"
          }
        }
      },
      "execution_count": null,
      "source": "df.describe()",
      "outputs": []
    },
    {
      "id": "0a4d6dbe-7027-4306-ba37-a2aa85c6d022",
      "cell_type": "code",
      "metadata": {
        "jupyter": {
          "outputs_hidden": false,
          "source_hidden": false
        },
        "noteable": {
          "cell_type": "code",
          "output_collection_id": "4eca297e-c531-495b-918f-2985615ff64d"
        },
        "ExecuteTime": {
          "end_time": "2023-08-22T13:26:22.928528+00:00",
          "start_time": "2023-08-22T13:26:22.560823+00:00"
        },
        "datalink": {
          "9e6ce60b-2519-4e2e-a188-1db45c61b6a1": {
            "applied_filters": [],
            "dataframe_info": {
              "default_index_used": false,
              "orig_num_cols": 3,
              "orig_num_rows": 8,
              "orig_size_bytes": 256,
              "truncated_num_cols": 3,
              "truncated_num_rows": 8,
              "truncated_size_bytes": 256,
              "truncated_string_columns": []
            },
            "display_id": "9e6ce60b-2519-4e2e-a188-1db45c61b6a1",
            "dx_settings": {
              "ALLOW_NOTEABLE_ATTRS": true,
              "COLUMN_SAMPLING_METHOD": "outer",
              "DB_LOCATION": ":memory:",
              "DEV_MODE": false,
              "DISPLAY_MAX_COLUMNS": 100,
              "DISPLAY_MAX_ROWS": 50000,
              "DISPLAY_MODE": "simple",
              "ENABLE_ASSIGNMENT": true,
              "ENABLE_DATALINK": true,
              "FLATTEN_COLUMN_VALUES": true,
              "FLATTEN_INDEX_VALUES": false,
              "GENERATE_DEX_METADATA": false,
              "HTML_TABLE_SCHEMA": false,
              "LOG_LEVEL": 30,
              "MAX_RENDER_SIZE_BYTES": 104857600,
              "MAX_STRING_LENGTH": 250,
              "NUM_PAST_SAMPLES_TRACKED": 3,
              "RANDOM_STATE": 12648430,
              "RESET_INDEX_VALUES": false,
              "ROW_SAMPLING_METHOD": "random",
              "SAMPLING_FACTOR": 0.1,
              "SAMPLING_METHOD": "random",
              "STRINGIFY_COLUMN_VALUES": true,
              "STRINGIFY_INDEX_VALUES": false
            },
            "sample_history": [],
            "sampling_time": "2023-08-22T13:26:22.760599",
            "user_variable_name": null,
            "variable_name": "unk_dataframe_cddeacbf111a413f875ff3e5a2125557"
          }
        }
      },
      "execution_count": null,
      "source": "df[['Age','Orders','Amount']].describe()",
      "outputs": []
    },
    {
      "id": "23f367f2-5fc8-4f09-a47e-9a14a5606696",
      "cell_type": "markdown",
      "source": "# Exploratory Data Analysis",
      "metadata": {
        "noteable": {
          "cell_type": "markdown"
        }
      }
    },
    {
      "id": "042c6740-65a7-4d3f-ab7c-7e608e29e58b",
      "cell_type": "markdown",
      "source": "## 1. Gender Wise",
      "metadata": {
        "noteable": {
          "cell_type": "markdown"
        }
      }
    },
    {
      "id": "a6822497-bd12-4a4a-bf16-ac7b5ac1733d",
      "cell_type": "code",
      "metadata": {
        "jupyter": {
          "outputs_hidden": false,
          "source_hidden": false
        },
        "noteable": {
          "cell_type": "code",
          "output_collection_id": "c677577f-bc5b-4d01-ae8b-afd2a31e673a"
        },
        "ExecuteTime": {
          "end_time": "2023-08-22T13:33:37.742089+00:00",
          "start_time": "2023-08-22T13:33:37.267905+00:00"
        }
      },
      "execution_count": null,
      "source": "# plotting a bar chart for Gender and it's count\n\nax = sns.countplot(x='Gender', data=df)\nfor bars in ax.containers:\n    ax.bar_label(bars)\nax.set_title('Counting the total customers based on Gender') \n",
      "outputs": []
    },
    {
      "id": "44309a58-d247-40aa-baf0-8bfa88688771",
      "cell_type": "code",
      "metadata": {
        "jupyter": {
          "outputs_hidden": false,
          "source_hidden": false
        },
        "noteable": {
          "cell_type": "code",
          "output_collection_id": "b71a80a7-0507-4dca-89b7-5c7dc01ddcdf"
        },
        "ExecuteTime": {
          "end_time": "2023-08-22T14:08:52.932138+00:00",
          "start_time": "2023-08-22T14:08:52.484399+00:00"
        }
      },
      "execution_count": null,
      "source": "# plotting a bar chart for gender vs total amount\n\nsales_gen = df.groupby(['Gender'], as_index = False)['Amount'].sum().sort_values(by='Amount')\n\nsns.barplot(x='Gender',y='Amount', data = sales_gen)\n                       \n",
      "outputs": []
    },
    {
      "id": "5c4ad4b5-89bc-4ff8-aa5a-6f86718dc1db",
      "cell_type": "markdown",
      "source": "## 2. Age Wise\n",
      "metadata": {
        "noteable": {
          "cell_type": "markdown"
        }
      }
    },
    {
      "id": "24953208-4282-49a6-9032-904fbcfdcd14",
      "cell_type": "code",
      "metadata": {
        "noteable": {
          "cell_type": "python",
          "output_collection_id": "d0dee1c8-5167-45a2-bcf4-4c27f09a5ed4"
        },
        "ExecuteTime": {
          "end_time": "2023-08-22T13:46:06.095300+00:00",
          "start_time": "2023-08-22T13:46:05.440347+00:00"
        }
      },
      "execution_count": null,
      "source": "#counting the number of people in each age category.\n\nax = sns.countplot(data=df, x='Age Group', hue='Gender')\nfor bars in ax.containers:\n    ax.bar_label(bars)\n\nax.set_title('Age Wise Bar Graph')",
      "outputs": []
    },
    {
      "id": "ed2ddb9c-2a9c-4d20-a29a-6e5194f04852",
      "cell_type": "code",
      "metadata": {
        "jupyter": {
          "outputs_hidden": false,
          "source_hidden": false
        },
        "noteable": {
          "cell_type": "code",
          "output_collection_id": "c0083a64-7d94-4656-810c-2439ea868465"
        },
        "ExecuteTime": {
          "end_time": "2023-08-22T15:05:12.667720+00:00",
          "start_time": "2023-08-22T15:05:12.008665+00:00"
        }
      },
      "execution_count": null,
      "source": "# Total Amount Vs Age Group \n\nsales_age = df.groupby(['Age Group',\"Gender\"], as_index=False).sum().sort_values(by='Amount')\nplt.figure(figsize=(10,4))\nsns.barplot(x=\"Age Group\", y=\"Amount\", data=sales_age, hue=\"Gender\")",
      "outputs": []
    },
    {
      "id": "0186e3b0-ef08-410c-af1f-05cca47fee8b",
      "cell_type": "markdown",
      "source": "## Now we will see that most of the buyers are from which age group and Gender?",
      "metadata": {
        "noteable": {
          "cell_type": "markdown"
        }
      }
    },
    {
      "id": "e7606150-11f8-44fc-89e8-f564fa61bf2a",
      "cell_type": "markdown",
      "source": "## 1. State Wise\n",
      "metadata": {
        "noteable": {
          "cell_type": "markdown"
        }
      }
    },
    {
      "id": "9cfe116b-83a7-4894-80a6-2e93d450cff9",
      "cell_type": "code",
      "metadata": {
        "noteable": {
          "cell_type": "python",
          "output_collection_id": "19daea97-cb08-4439-9209-0c2e11235ea3"
        },
        "ExecuteTime": {
          "end_time": "2023-08-22T14:26:10.489040+00:00",
          "start_time": "2023-08-22T14:26:09.803488+00:00"
        }
      },
      "execution_count": null,
      "source": "# total number of ORDERS from top 10 states\n\nsales_state = df.groupby(['State'], as_index=False).sum().sort_values(by='Orders', ascending = False).head(10)\nsns.set(rc={'figure.figsize':(12,5)})\nsns.barplot(x=\"State\", y=\"Orders\", data=sales_state)\nplt.xticks(rotation = 45)",
      "outputs": []
    },
    {
      "id": "f435b99d-905e-4e1b-b6e0-22c8613c9be8",
      "cell_type": "code",
      "metadata": {
        "jupyter": {
          "outputs_hidden": false,
          "source_hidden": false
        },
        "noteable": {
          "cell_type": "code",
          "output_collection_id": "c5449858-d057-4d0d-bd76-4634923b1100"
        },
        "ExecuteTime": {
          "end_time": "2023-08-22T14:28:42.918896+00:00",
          "start_time": "2023-08-22T14:28:42.234303+00:00"
        }
      },
      "execution_count": null,
      "source": "# total number of Amount from top 10 states\n\nsales_state = df.groupby(['State'], as_index=False).sum().sort_values(by='Amount', ascending = False).head(10)\nsns.set(rc={'figure.figsize':(12,5)})\nsns.barplot(x=\"State\", y=\"Amount\", data=sales_state)\nplt.xticks(rotation = 25)",
      "outputs": []
    },
    {
      "id": "aa7e8c31-3708-4351-9313-05592e9d60e6",
      "cell_type": "markdown",
      "source": "## 2. Marital Status Wise\n",
      "metadata": {
        "noteable": {
          "cell_type": "markdown"
        }
      }
    },
    {
      "id": "d4f88382-45e1-4d5c-ad57-5c0219c7c88a",
      "cell_type": "code",
      "metadata": {
        "noteable": {
          "cell_type": "python",
          "output_collection_id": "ad6d706f-65b4-468f-b4da-346f08a81b23"
        },
        "ExecuteTime": {
          "end_time": "2023-08-22T14:33:15.077878+00:00",
          "start_time": "2023-08-22T14:33:14.627919+00:00"
        }
      },
      "execution_count": null,
      "source": "ax = sns.countplot(data=df, x ='Marital_Status')\n\nsns.set(rc={'figure.figsize':(10,5)})\nfor bars in ax.containers:\n    ax.bar_label(bars)",
      "outputs": []
    },
    {
      "id": "499ce091-4bc9-4201-a6cc-7153bdd5eaf0",
      "cell_type": "code",
      "metadata": {
        "jupyter": {
          "outputs_hidden": false,
          "source_hidden": false
        },
        "noteable": {
          "cell_type": "code"
        }
      },
      "execution_count": null,
      "source": "sales_state = df.groupby(['Marital_Status', 'Gender'], as_index=False)['Amount'].sum().sort_values(by='Amount', ascending=False)\n\nsns.set(rc={'figure.figsize':(10,5)})\nsns.barplot(data = sales_state, x = 'Marital_Status',y= 'Amount', hue='Gender')",
      "outputs": []
    },
    {
      "id": "b72e6e4c-2d4f-4d2b-bb61-63eb0ce247a6",
      "cell_type": "code",
      "metadata": {
        "jupyter": {
          "outputs_hidden": false,
          "source_hidden": false
        },
        "noteable": {
          "cell_type": "code",
          "output_collection_id": "18519bdb-b36b-4ad6-a8ea-6a17695e2349"
        },
        "ExecuteTime": {
          "end_time": "2023-08-22T14:45:09.404930+00:00",
          "start_time": "2023-08-22T14:45:08.930343+00:00"
        }
      },
      "execution_count": null,
      "source": "sales_state = df.groupby(['Marital_Status','Gender'], as_index= False)['Amount'].sum().sort_values(by='Amount', ascending=False)\n\nsns.set(rc={'figure.figsize':(10,5)})\nsns.barplot(data=sales_state, x='Marital_Status',y='Amount',hue='Gender')",
      "outputs": []
    },
    {
      "id": "93de7552-dda1-4bb4-877f-a28d8a44b22b",
      "cell_type": "markdown",
      "source": "## 3.Occupation wise",
      "metadata": {
        "noteable": {
          "cell_type": "markdown"
        }
      }
    },
    {
      "id": "e4dd08b6-4777-46a7-9be3-f7ed807a5107",
      "cell_type": "code",
      "metadata": {
        "jupyter": {
          "outputs_hidden": false,
          "source_hidden": false
        },
        "noteable": {
          "cell_type": "code",
          "output_collection_id": "bd902387-df46-4944-8fd8-e6c81e155409"
        },
        "ExecuteTime": {
          "end_time": "2023-08-22T14:56:19.353782+00:00",
          "start_time": "2023-08-22T14:56:18.531587+00:00"
        }
      },
      "execution_count": null,
      "source": "ax = sns.countplot(data=df, x ='Occupation')\n\nfor bars in ax.containers:\n    ax.bar_label(bars)\n    \nsns.set(rc={'figure.figsize':(20,5)})\nplt.xticks(rotation =25)",
      "outputs": []
    },
    {
      "id": "69ee577d-4c36-4c55-af0f-f45b8a7d7d41",
      "cell_type": "code",
      "metadata": {
        "jupyter": {
          "outputs_hidden": false,
          "source_hidden": false
        },
        "noteable": {
          "cell_type": "code",
          "output_collection_id": "b2f21da3-7d89-43a2-a513-bbfd21217dc3"
        },
        "ExecuteTime": {
          "end_time": "2023-08-22T14:56:29.695567+00:00",
          "start_time": "2023-08-22T14:56:28.930982+00:00"
        }
      },
      "execution_count": null,
      "source": "sales_state = df.groupby(['Occupation'], as_index= False)['Amount'].sum().sort_values(by='Amount', ascending=False)\n\nsns.set(rc={'figure.figsize':(20,5)})\nsns.barplot(data=sales_state, x='Occupation',y='Amount')\nplt.xticks(rotation =45)\n",
      "outputs": []
    },
    {
      "id": "194f1124-9862-4770-a488-40cb6c180b10",
      "cell_type": "markdown",
      "source": "## 4.Product Category\n",
      "metadata": {
        "noteable": {
          "cell_type": "markdown"
        }
      }
    },
    {
      "id": "3f2e656b-fcaf-4aae-be98-85f7b5a588b3",
      "cell_type": "code",
      "metadata": {
        "noteable": {
          "cell_type": "python",
          "output_collection_id": "d89102ff-33c2-4303-892d-fb8ddbefeb10"
        },
        "ExecuteTime": {
          "end_time": "2023-08-22T14:58:17.660440+00:00",
          "start_time": "2023-08-22T14:58:16.763222+00:00"
        }
      },
      "execution_count": null,
      "source": "ax = sns.countplot(data=df, x ='Product_Category')\n\nfor bars in ax.containers:\n    ax.bar_label(bars)\n    \nsns.set(rc={'figure.figsize':(20,5)})\nplt.xticks(rotation =25)",
      "outputs": []
    },
    {
      "id": "19a51e35-50e2-4772-9ffc-84abe4a421fa",
      "cell_type": "code",
      "metadata": {
        "jupyter": {
          "outputs_hidden": false,
          "source_hidden": false
        },
        "noteable": {
          "cell_type": "code",
          "output_collection_id": "b744110b-dcf8-4e40-8855-083c92f897ef"
        },
        "ExecuteTime": {
          "end_time": "2023-08-22T15:14:44.636931+00:00",
          "start_time": "2023-08-22T15:14:43.928461+00:00"
        }
      },
      "execution_count": null,
      "source": "sales_state = df.groupby(['Product_Category'], as_index= False)['Amount'].sum().sort_values(by='Amount', ascending=False).head(10)\n\nsns.set(rc={'figure.figsize':(20,5)})\nsns.barplot(data=sales_state, x='Product_Category',y='Amount')\nplt.xticks(rotation =45)",
      "outputs": []
    },
    {
      "id": "24d09b8d-dea4-4537-90ee-be40f5dc74aa",
      "cell_type": "markdown",
      "source": "We will then see what is the most sold products from the entire Product_Category",
      "metadata": {
        "noteable": {
          "cell_type": "markdown"
        }
      }
    },
    {
      "id": "ee84a33c-1abb-4415-9572-530eff12ecc6",
      "cell_type": "code",
      "metadata": {
        "noteable": {
          "cell_type": "python",
          "output_collection_id": "e4817699-3a9b-4bde-8d52-ef5579e79532"
        },
        "ExecuteTime": {
          "end_time": "2023-08-22T15:14:58.310270+00:00",
          "start_time": "2023-08-22T15:14:57.631460+00:00"
        }
      },
      "execution_count": null,
      "source": "sales_state = df.groupby(['Product_ID'], as_index= False)['Orders'].sum().sort_values(by='Orders', ascending=False).head(10)\n\nsns.set(rc={'figure.figsize':(20,5)})\nsns.barplot(data=sales_state, x='Product_ID',y='Orders')\nplt.xticks(rotation =45)",
      "outputs": []
    },
    {
      "id": "a03c567d-de15-4025-9cb7-348649a1d273",
      "cell_type": "code",
      "metadata": {
        "jupyter": {
          "outputs_hidden": false,
          "source_hidden": false
        },
        "noteable": {
          "cell_type": "code",
          "output_collection_id": "e00643e4-82f5-4168-99f4-27d8807e72f9"
        },
        "ExecuteTime": {
          "end_time": "2023-08-22T15:20:20.791913+00:00",
          "start_time": "2023-08-22T15:20:20.090472+00:00"
        }
      },
      "execution_count": null,
      "source": "# top 10 most sold products (same thing as above)\n\nfig1, ax1 = plt.subplots(figsize=(12,7))\ndf.groupby('Product_ID')['Orders'].sum().nlargest(10).sort_values(ascending=False).plot(kind='bar')\nplt.xticks(rotation = 25)",
      "outputs": []
    },
    {
      "id": "7bc60d31-950a-4d11-9a88-af95000876d8",
      "cell_type": "markdown",
      "source": "# ** CONCLUSION:**",
      "metadata": {
        "noteable": {
          "cell_type": "markdown"
        }
      }
    },
    {
      "id": "ff8ba896-0fc0-465f-bb19-f501b7fbd2de",
      "cell_type": "markdown",
      "source": "Married women age group 26-35 yrs from UP, Maharastra and Karnataka working in IT, Healthcare and Aviation are more likely to buy products from Food, Clothing and Electronics category",
      "metadata": {
        "noteable": {
          "cell_type": "markdown"
        }
      }
    }
  ]
}